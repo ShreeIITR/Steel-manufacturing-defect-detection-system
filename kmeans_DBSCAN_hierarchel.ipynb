{
  "nbformat": 4,
  "nbformat_minor": 0,
  "metadata": {
    "colab": {
      "name": "kmeans_DBSCAN_hierarchel.ipynb",
      "provenance": []
    },
    "kernelspec": {
      "name": "python3",
      "display_name": "Python 3"
    },
    "language_info": {
      "name": "python"
    }
  },
  "cells": [
    {
      "cell_type": "code",
      "execution_count": null,
      "metadata": {
        "id": "Pcl_yQNjt-ii"
      },
      "outputs": [],
      "source": [
        "import numpy\n",
        "import pandas\n",
        "import sklearn\n",
        "import scipy\n",
        "import collections\n",
        "import matplotlib\n",
        "import seaborn\n",
        "import sys"
      ]
    },
    {
      "cell_type": "code",
      "source": [
        "modules = list(set(sys.modules) & set(globals()))\n",
        "for module_name in modules:\n",
        "    module = sys.modules[module_name]\n",
        "    print(module_name, getattr(module, '__version__', 'unknown'))"
      ],
      "metadata": {
        "id": "cxdGyuv0uZgQ"
      },
      "execution_count": null,
      "outputs": []
    },
    {
      "cell_type": "code",
      "source": [
        "import numpy as np\n",
        "import pandas as pd\n",
        "\n",
        "from sklearn.preprocessing import StandardScaler\n",
        "from sklearn.decomposition import PCA\n",
        "from sklearn.cluster import DBSCAN, KMeans, AgglomerativeClustering\n",
        "from sklearn.metrics import confusion_matrix, classification_report, accuracy_score\n",
        "\n",
        "from scipy.cluster.hierarchy import dendrogram, linkage\n",
        "from scipy.cluster.hierarchy import fcluster\n",
        "from scipy.cluster.hierarchy import cophenet\n",
        "from scipy.spatial.distance import pdist\n",
        "from scipy import stats\n",
        "from scipy.stats import norm, skew\n",
        "\n",
        "from collections import Counter\n",
        "\n",
        "import matplotlib.pyplot as plt\n",
        "import seaborn as sns\n",
        "\n",
        "%matplotlib inline\n",
        "\n",
        "\n",
        "import warnings\n",
        "warnings.filterwarnings('ignore')"
      ],
      "metadata": {
        "id": "yv-aDGCRwpfI"
      },
      "execution_count": null,
      "outputs": []
    },
    {
      "cell_type": "code",
      "source": [
        "from google.colab import drive\n",
        "drive.mount('/content/drive')\n",
        "from pathlib import Path\n",
        "base = Path('/Disdata')"
      ],
      "metadata": {
        "id": "iTp4fhZDwuuP"
      },
      "execution_count": null,
      "outputs": []
    },
    {
      "cell_type": "code",
      "source": [
        "data = pd.read_csv(\"/content/drive/MyDrive/ML/data/driver_imgs_list.csv\")"
      ],
      "metadata": {
        "id": "PX7nZTD7w4uJ"
      },
      "execution_count": null,
      "outputs": []
    },
    {
      "cell_type": "code",
      "source": [
        "data.shape"
      ],
      "metadata": {
        "id": "3yRjKdPzw82h"
      },
      "execution_count": null,
      "outputs": []
    },
    {
      "cell_type": "code",
      "source": [
        "targets = data.iloc[:, 27:35]\n",
        "data.drop(targets.columns, axis=1, inplace=True)\n",
        "data['Target'] = targets.idxmax(1)\n",
        "data.head()"
      ],
      "metadata": {
        "id": "0AQvDKtxw__q"
      },
      "execution_count": null,
      "outputs": []
    },
    {
      "cell_type": "code",
      "source": [
        "origina_data = data.copy()"
      ],
      "metadata": {
        "id": "QO33C9gExEcT"
      },
      "execution_count": null,
      "outputs": []
    },
    {
      "cell_type": "code",
      "source": [
        "target_counts= data['Target'].value_counts()"
      ],
      "metadata": {
        "id": "owGW7vylxPCN"
      },
      "execution_count": null,
      "outputs": []
    },
    {
      "cell_type": "code",
      "source": [
        "data['TypeOfSteel_A300'] = data['TypeOfSteel_A300'].astype('category',copy=False)\n",
        "data['TypeOfSteel_A400'] = data['TypeOfSteel_A400'].astype('category',copy=False)\n",
        "data['Outside_Global_Index'] = data['Outside_Global_Index'].astype('category',copy=False)"
      ],
      "metadata": {
        "id": "I3R1VGhqxPQL"
      },
      "execution_count": null,
      "outputs": []
    },
    {
      "cell_type": "code",
      "source": [
        "numeric_features = data.dtypes[data.dtypes != \"object\"].index\n",
        "\n",
        "skewed_features = data[numeric_features].apply(lambda x: skew(x)).sort_values(ascending=False)\n",
        "\n",
        "skewed_features_df = pd.DataFrame(skewed_features, columns={'Skew'})\n",
        "skewed_features_df.head(10)"
      ],
      "metadata": {
        "id": "irStjqw4xYqT"
      },
      "execution_count": null,
      "outputs": []
    },
    {
      "cell_type": "code",
      "source": [
        "skewed_features_df.drop(['TypeOfSteel_A400','TypeOfSteel_A300', 'Outside_Global_Index'], inplace=True)"
      ],
      "metadata": {
        "id": "0NY2wNy4xcMR"
      },
      "execution_count": null,
      "outputs": []
    },
    {
      "cell_type": "code",
      "source": [
        "sns.distplot(data['Sum_of_Luminosity'])"
      ],
      "metadata": {
        "id": "Hl4MMqRYxf5l"
      },
      "execution_count": null,
      "outputs": []
    },
    {
      "cell_type": "code",
      "source": [
        "skewed_features_df = skewed_features_df[abs(skewed_features_df) > 0.75]\n",
        "\n",
        "from scipy.special import boxcox1p\n",
        "lam = 0.15\n",
        "cols = skewed_features_df.index\n",
        "\n",
        "for c in cols:\n",
        "    data[c] = boxcox1p(data[c], lam)"
      ],
      "metadata": {
        "id": "8RBYX50Oxj9o"
      },
      "execution_count": null,
      "outputs": []
    },
    {
      "cell_type": "code",
      "source": [
        "sns.distplot(data['Sum_of_Luminosity'])"
      ],
      "metadata": {
        "id": "ZcYqoL26xmq3"
      },
      "execution_count": null,
      "outputs": []
    },
    {
      "cell_type": "code",
      "source": [
        "features = data.drop('Target', axis=1)\n",
        "target = data['Target']\n",
        "\n",
        "scaler = StandardScaler()\n",
        "features_scaled = pd.DataFrame(scaler.fit_transform(features), columns=features.columns)"
      ],
      "metadata": {
        "id": "vFAVJtxNxqGD"
      },
      "execution_count": null,
      "outputs": []
    },
    {
      "cell_type": "code",
      "source": [
        "data_boxplot = features_scaled.boxplot(return_type='dict', vert=False, figsize=(20,20))"
      ],
      "metadata": {
        "id": "BQtEJEDlxxvv"
      },
      "execution_count": null,
      "outputs": []
    },
    {
      "cell_type": "code",
      "source": [
        "features_scaled[features_scaled['Pixels_Areas']>4]"
      ],
      "metadata": {
        "id": "QPimAnzWx1Kh"
      },
      "execution_count": null,
      "outputs": []
    },
    {
      "cell_type": "code",
      "source": [
        "features_scaled[features_scaled['Sum_of_Luminosity']>4]"
      ],
      "metadata": {
        "id": "6mOOnurax3p5"
      },
      "execution_count": null,
      "outputs": []
    },
    {
      "cell_type": "code",
      "source": [
        "features_scaled[features_scaled['X_Perimeter']>4]"
      ],
      "metadata": {
        "id": "aT8EaE0Cx6NR"
      },
      "execution_count": null,
      "outputs": []
    },
    {
      "cell_type": "code",
      "source": [
        "features_scaled[features_scaled['Y_Perimeter']>4]"
      ],
      "metadata": {
        "id": "MJ4jiAO2x9I4"
      },
      "execution_count": null,
      "outputs": []
    },
    {
      "cell_type": "code",
      "source": [
        "data_scaled = features_scaled.copy()\n",
        "data_scaled['Target'] = target\n",
        "\n",
        "data_scaled['Target'] = pd.Categorical(data_scaled['Target'])\n",
        "data_scaled['Target_Code'] = data_scaled.Target.cat.codes"
      ],
      "metadata": {
        "id": "mFfrEdB6yAkl"
      },
      "execution_count": null,
      "outputs": []
    },
    {
      "cell_type": "code",
      "source": [
        "plt.figure(figsize=(8,5))\n",
        "sns.boxplot(x='Target', y='X_Maximum', data=data_scaled)"
      ],
      "metadata": {
        "id": "h0Nq29eKyFCX"
      },
      "execution_count": null,
      "outputs": []
    },
    {
      "cell_type": "code",
      "source": [
        "dbscan_model = DBSCAN(eps=3.3, min_samples=7).fit(features_scaled)"
      ],
      "metadata": {
        "id": "DeDl4iCPxqPD"
      },
      "execution_count": null,
      "outputs": []
    },
    {
      "cell_type": "code",
      "source": [
        "print(Counter(dbscan_model.labels_))"
      ],
      "metadata": {
        "id": "cd3Pb9lOyLC7"
      },
      "execution_count": null,
      "outputs": []
    },
    {
      "cell_type": "code",
      "source": [
        "outliers = features_scaled[dbscan_model.labels_ == -1]\n",
        "outliers.shape"
      ],
      "metadata": {
        "id": "oa-H5HzhyOnZ"
      },
      "execution_count": null,
      "outputs": []
    },
    {
      "cell_type": "code",
      "source": [
        "features_scaled.drop(outliers.index, axis=0, inplace=True)\n",
        "target.drop(outliers.index, axis=0, inplace=True)\n",
        "data_scaled.drop(outliers.index, axis=0, inplace=True)\n",
        "features_scaled.shape"
      ],
      "metadata": {
        "id": "D6P0XuUyyRP6"
      },
      "execution_count": null,
      "outputs": []
    },
    {
      "cell_type": "code",
      "source": [
        "pca = PCA(random_state=101)\n",
        "features_pca = pca.fit_transform(features_scaled.values)\n",
        "pd.DataFrame(pca.explained_variance_ratio_, columns=['Explained Variance Ratio'])\n",
        "pca.explained_variance_ratio_[0:15].sum()"
      ],
      "metadata": {
        "id": "nShS9_mqyTpx"
      },
      "execution_count": null,
      "outputs": []
    },
    {
      "cell_type": "code",
      "source": [
        "pca_components = pd.DataFrame(pca.components_, columns= features.columns)\n",
        "plt.figure(figsize=(20,20))\n",
        "sns.heatmap(pca_components, cmap='seismic')\n"
      ],
      "metadata": {
        "id": "Vqyl3Ycmybvq"
      },
      "execution_count": null,
      "outputs": []
    },
    {
      "cell_type": "code",
      "source": [
        "def pca_dataset(features, n_components):\n",
        "    \n",
        "    pca_n = PCA(n_components=n_components, random_state=101)\n",
        "    features_pca_n = pca_n.fit_transform(features)\n",
        "    \n",
        "    column_pca = []\n",
        "    for i in range(0,n_components):\n",
        "        column_pca.append('Component'+np.str(i))\n",
        "    return pd.DataFrame(features_pca_n, columns=column_pca)"
      ],
      "metadata": {
        "id": "s0FJygONygps"
      },
      "execution_count": null,
      "outputs": []
    },
    {
      "cell_type": "code",
      "source": [
        "data_pca15 = pca_dataset(features_scaled, n_components=15)\n",
        "data_pca15['Target'] = target"
      ],
      "metadata": {
        "id": "oAc1nWXEyjo6"
      },
      "execution_count": null,
      "outputs": []
    },
    {
      "cell_type": "code",
      "source": [
        "pca.explained_variance_ratio_[0:5].sum()"
      ],
      "metadata": {
        "id": "TkLLSbykyoaH"
      },
      "execution_count": null,
      "outputs": []
    },
    {
      "cell_type": "code",
      "source": [
        "data_pca5 = pca_dataset(features_scaled, n_components=5)\n",
        "data_pca5['Target'] = target"
      ],
      "metadata": {
        "id": "s7o0P2H4yq9c"
      },
      "execution_count": null,
      "outputs": []
    },
    {
      "cell_type": "code",
      "source": [
        "data_pca15['Target'] = pd.Categorical(data_pca15['Target'])\n",
        "data_pca15['Target_Code'] = data_pca15.Target.cat.codes\n",
        "\n",
        "data_pca5['Target'] = pd.Categorical(data_pca5['Target'])\n",
        "data_pca5['Target_Code'] = data_pca5.Target.cat.codes"
      ],
      "metadata": {
        "id": "iCLJcRoyyuLm"
      },
      "execution_count": null,
      "outputs": []
    },
    {
      "cell_type": "code",
      "source": [
        "kmeans_model = KMeans(n_clusters=7, random_state=54)\n",
        "kmeans_model.fit(features_scaled)"
      ],
      "metadata": {
        "id": "Epz3pGnXy-bY"
      },
      "execution_count": null,
      "outputs": []
    },
    {
      "cell_type": "code",
      "source": [
        "kmeans_labels = np.choose(kmeans_model.labels_, [0,1,2,3,4,5,6]).astype(np.int64)\n",
        "data_scaled['kmeans_labels'] = kmeans_labels"
      ],
      "metadata": {
        "id": "8ISVlPRCzA_J"
      },
      "execution_count": null,
      "outputs": []
    },
    {
      "cell_type": "code",
      "source": [
        "color_themes = {0:'#8d99ae',1:'#ffe066', 2:'#f77f00',3:'#348aa7',4:'#bce784',5:'#ffcc99',  6:'#f25f5c'}\n",
        "\n",
        "\n",
        "sns.lmplot(x='Orientation_Index', y='Log_X_Index', data=data_scaled, fit_reg=False, hue='Target', col='Target', size=8)\n",
        "plt.title(\"Ground Truth Classification\")\n",
        "\n",
        "sns.lmplot(x='Orientation_Index', y='Log_X_Index', data=data_scaled,  fit_reg=False, hue='kmeans_labels', col='kmeans_labels',size=8)\n",
        "plt.title(\"KMean Clustering\")"
      ],
      "metadata": {
        "id": "R323VcgCzDrj"
      },
      "execution_count": null,
      "outputs": []
    },
    {
      "cell_type": "code",
      "source": [
        "print(classification_report(data_scaled['Target_Code'], kmeans_labels))"
      ],
      "metadata": {
        "id": "BHb0sY3QzGFT"
      },
      "execution_count": null,
      "outputs": []
    },
    {
      "cell_type": "code",
      "source": [
        "kmeans_model_pca15 = KMeans(n_clusters=7, random_state=54)\n",
        "kmeans_model_pca15.fit(data_pca15.drop(['Target','Target_Code'], axis=1))"
      ],
      "metadata": {
        "id": "n0XL7kmLzI7c"
      },
      "execution_count": null,
      "outputs": []
    },
    {
      "cell_type": "code",
      "source": [
        "kmeans_labels_pca15 = np.choose(kmeans_model.labels_, [0,1,2,3,4,5,6]).astype(np.int64)\n",
        "data_pca15['kmeans_labels'] = kmeans_labels_pca15"
      ],
      "metadata": {
        "id": "TufAcZqNzLsP"
      },
      "execution_count": null,
      "outputs": []
    },
    {
      "cell_type": "code",
      "source": [
        "sns.lmplot(x='Component0', y='Component1', data=data_pca15, fit_reg=False, hue='Target', col='Target', size=8)\n",
        "plt.title(\"Ground Truth Classification\")\n",
        "\n",
        "sns.lmplot(x='Component0', y='Component1', data=data_pca15,  fit_reg=False, hue='kmeans_labels', col='kmeans_labels',size=8)\n",
        "plt.title(\"KMean Clustering\")"
      ],
      "metadata": {
        "id": "1mWxdRJpzOec"
      },
      "execution_count": null,
      "outputs": []
    },
    {
      "cell_type": "code",
      "source": [
        "print(classification_report(data_pca15['Target_Code'], kmeans_model_pca15.labels_))"
      ],
      "metadata": {
        "id": "FOOJnHgwzRLx"
      },
      "execution_count": null,
      "outputs": []
    },
    {
      "cell_type": "code",
      "source": [
        "kmeans_model_pca5 = KMeans(n_clusters=7, random_state=54)\n",
        "kmeans_model_pca5.fit(data_pca5.drop(['Target','Target_Code'], axis=1))"
      ],
      "metadata": {
        "id": "Ms1ZD3R8zT_E"
      },
      "execution_count": null,
      "outputs": []
    },
    {
      "cell_type": "code",
      "source": [
        "print(classification_report(data_pca5['Target_Code'], kmeans_model_pca15.labels_))"
      ],
      "metadata": {
        "id": "IR34LUdOzWwC"
      },
      "execution_count": null,
      "outputs": []
    },
    {
      "cell_type": "code",
      "source": [
        "original_features = origina_data.drop(['Target'], axis=1).copy()\n",
        "origina_data['Target'] = pd.Categorical(origina_data['Target'])\n",
        "origina_data['Target_Code'] = origina_data.Target.cat.codes"
      ],
      "metadata": {
        "id": "zouR8roGzZyb"
      },
      "execution_count": null,
      "outputs": []
    },
    {
      "cell_type": "code",
      "source": [
        "linkage_model = linkage(original_features, method='ward')\n",
        "dendrogram(linkage_model, truncate_mode='lastp', p=12, leaf_rotation=45, leaf_font_size=12, show_contracted=True)\n",
        "plt.title('Truncated Hierarchical Clustering Dendrogram')\n",
        "plt.xlabel('Cluster Size')\n",
        "plt.ylabel('Distance')\n",
        "\n",
        "plt.axhline(y=0.4*10**(8))\n",
        "plt.axhline(y=0.2*10**(8))"
      ],
      "metadata": {
        "id": "bQzqwkJ-zay8"
      },
      "execution_count": null,
      "outputs": []
    },
    {
      "cell_type": "code",
      "source": [
        "k = 7\n",
        "h_clustering = AgglomerativeClustering(n_clusters=k, affinity='euclidean', linkage='ward')\n",
        "h_clustering.fit(original_features)\n",
        "\n",
        "accuracy_score(origina_data['Target_Code'], h_clustering.labels_)"
      ],
      "metadata": {
        "id": "XTYb6LCrzgQ5"
      },
      "execution_count": null,
      "outputs": []
    },
    {
      "cell_type": "code",
      "source": [
        "h_clustering = AgglomerativeClustering(n_clusters=k, affinity='manhattan', linkage='complete' )\n",
        "h_clustering.fit(original_features)\n",
        "\n",
        "accuracy_score(origina_data['Target_Code'], h_clustering.labels_)"
      ],
      "metadata": {
        "id": "kz_INlynzjMQ"
      },
      "execution_count": null,
      "outputs": []
    },
    {
      "cell_type": "code",
      "source": [
        "h_clustering = AgglomerativeClustering(n_clusters=k, affinity='manhattan', linkage='average')\n",
        "h_clustering.fit(original_features)\n",
        "\n",
        "accuracy_score(origina_data['Target_Code'], h_clustering.labels_)"
      ],
      "metadata": {
        "id": "IEW88lDEzl19"
      },
      "execution_count": null,
      "outputs": []
    },
    {
      "cell_type": "code",
      "source": [
        "k = 7\n",
        "h_clustering_pca5 = AgglomerativeClustering(n_clusters=k, affinity='euclidean', linkage='ward' )\n",
        "h_clustering_pca5.fit(data_pca5.drop(['Target','Target_Code'], axis=1))\n",
        "\n",
        "accuracy_score(data_pca5['Target_Code'], h_clustering_pca5.labels_)"
      ],
      "metadata": {
        "id": "Tscc6vBVzot_"
      },
      "execution_count": null,
      "outputs": []
    }
  ]
}